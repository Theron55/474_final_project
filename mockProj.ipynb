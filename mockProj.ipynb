{
  "nbformat": 4,
  "nbformat_minor": 0,
  "metadata": {
    "colab": {
      "provenance": []
    },
    "kernelspec": {
      "name": "python3",
      "display_name": "Python 3"
    },
    "language_info": {
      "name": "python"
    }
  },
  "cells": [
    {
      "cell_type": "code",
      "source": [
        "!pip install biopython"
      ],
      "metadata": {
        "colab": {
          "base_uri": "https://localhost:8080/"
        },
        "id": "R3KIpM2HLqtB",
        "outputId": "2ebe06aa-c51e-4e60-be39-7c69a8f7da8e"
      },
      "execution_count": 1,
      "outputs": [
        {
          "output_type": "stream",
          "name": "stdout",
          "text": [
            "Collecting biopython\n",
            "  Downloading biopython-1.84-cp310-cp310-manylinux_2_17_x86_64.manylinux2014_x86_64.whl.metadata (12 kB)\n",
            "Requirement already satisfied: numpy in /usr/local/lib/python3.10/dist-packages (from biopython) (1.26.4)\n",
            "Downloading biopython-1.84-cp310-cp310-manylinux_2_17_x86_64.manylinux2014_x86_64.whl (3.2 MB)\n",
            "\u001b[2K   \u001b[90m━━━━━━━━━━━━━━━━━━━━━━━━━━━━━━━━━━━━━━━━\u001b[0m \u001b[32m3.2/3.2 MB\u001b[0m \u001b[31m16.1 MB/s\u001b[0m eta \u001b[36m0:00:00\u001b[0m\n",
            "\u001b[?25hInstalling collected packages: biopython\n",
            "Successfully installed biopython-1.84\n"
          ]
        }
      ]
    },
    {
      "cell_type": "code",
      "execution_count": 2,
      "metadata": {
        "id": "hBO5ltR1KOf5",
        "colab": {
          "base_uri": "https://localhost:8080/"
        },
        "outputId": "3f73bd11-5c61-4162-8a00-2938309d8b06"
      },
      "outputs": [
        {
          "output_type": "stream",
          "name": "stdout",
          "text": [
            "Enter the sequence to search for (example: 'MVLSPADKTNVKAAW'): GIVEQCCTSICSLYQLENYCN\n",
            "Enter the constraint that should be present (example: 'PADK'): CCTS\n",
            "The constraint 'CCTS' is present in the sequence. Proceeding with BLAST search...\n",
            "\n",
            "Performing BLAST search on the input sequence. This may take a few moments...\n",
            "BLAST search complete. Parsing results...\n",
            "\n",
            "--- Top BLAST Matches ---\n",
            "\n",
            "Alignment 1 Title: ref|XP_026338704.1| insulin [Ursus arctos] >ref|XP_040495583.1| insulin [Ursus maritimus]\n",
            "Score: 114.0\n",
            "E-value: 1.33462e-05\n",
            "Query Alignment: GIVEQCCTSICSLYQLENYCN\n",
            "Match Alignment: GIVEQCCTSICSLYQLENYCN\n",
            "Subject Alignment: GIVEQCCTSICSLYQLENYCN\n",
            "\n",
            "---\n",
            "\n",
            "\n",
            "Alignment 2 Title: ref|XP_039081000.1| insulin [Hyaena hyaena]\n",
            "Score: 114.0\n",
            "E-value: 1.39052e-05\n",
            "Query Alignment: GIVEQCCTSICSLYQLENYCN\n",
            "Match Alignment: GIVEQCCTSICSLYQLENYCN\n",
            "Subject Alignment: GIVEQCCTSICSLYQLENYCN\n",
            "\n",
            "---\n",
            "\n",
            "\n",
            "Alignment 3 Title: ref|XP_045626705.1| insulin [Ursus americanus]\n",
            "Score: 113.0\n",
            "E-value: 1.56948e-05\n",
            "Query Alignment: GIVEQCCTSICSLYQLENYCN\n",
            "Match Alignment: GIVEQCCTSICSLYQLENYCN\n",
            "Subject Alignment: GIVEQCCTSICSLYQLENYCN\n",
            "\n",
            "---\n",
            "\n"
          ]
        }
      ],
      "source": [
        "\n",
        "from Bio.Blast import NCBIWWW, NCBIXML\n",
        "#code is just from chatgpt to demonstrate using Biopython to connect to NCBI db,\n",
        "#runs blast search, constraint here is just to make sure that constraint is in the\n",
        "#given input sequence. It is just an option. We can customize with our alignment algorithm later on.\n",
        "def blast_search(sequence, constraint):\n",
        "    if constraint in sequence:\n",
        "        print(f\"The constraint '{constraint}' is present in the sequence. Proceeding with BLAST search...\\n\")\n",
        "\n",
        "        try:\n",
        "            print(\"Performing BLAST search on the input sequence. This may take a few moments...\")\n",
        "            result_handle = NCBIWWW.qblast(\"blastp\", \"nr\", sequence)\n",
        "            print(\"BLAST search complete. Parsing results...\")\n",
        "\n",
        "            blast_records = NCBIXML.parse(result_handle)\n",
        "            results_found = False\n",
        "\n",
        "            for record in blast_records:\n",
        "                if not record.alignments:\n",
        "                    print(\"No significant alignments found.\")\n",
        "                    return\n",
        "\n",
        "                results_found = True\n",
        "                print(\"\\n--- Top BLAST Matches ---\")\n",
        "                for i, alignment in enumerate(record.alignments[:3], start=1):\n",
        "                    print(f\"\\nAlignment {i} Title: {alignment.title}\")\n",
        "                    for hsp in alignment.hsps:\n",
        "                        print(\"Score:\", hsp.score)\n",
        "                        print(\"E-value:\", hsp.expect)\n",
        "                        print(\"Query Alignment:\", hsp.query[:60])\n",
        "                        print(\"Match Alignment:\", hsp.match[:60])\n",
        "                        print(\"Subject Alignment:\", hsp.sbjct[:60])\n",
        "                        print(\"\\n---\\n\")\n",
        "            if not results_found:\n",
        "                print(\"No significant matches found.\")\n",
        "\n",
        "        except Exception as e:\n",
        "            print(\"Error during BLAST search:\", e)\n",
        "    else:\n",
        "        print(f\"The constraint '{constraint}' is not found in the provided sequence. No BLAST search performed.\")\n",
        "\n",
        "sequence_input = input(\"Enter the sequence to search for (example: 'MVLSPADKTNVKAAW'): \")\n",
        "motif_input = input(\"Enter the constraint that should be present (example: 'PADK'): \")\n",
        "\n",
        "blast_search(sequence_input, motif_input)"
      ]
    }
  ]
}